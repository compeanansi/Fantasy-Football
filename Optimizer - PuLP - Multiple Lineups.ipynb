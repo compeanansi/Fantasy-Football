{
 "cells": [
  {
   "cell_type": "code",
   "execution_count": 1,
   "metadata": {
    "collapsed": true
   },
   "outputs": [],
   "source": [
    "# Configuration\n",
    "num_lineups = 5 # Number of lineups to create\n",
    "max_players = 3 # Max number of players per team\n",
    "max_sal = 50000 # Salary cap on DFS site\n",
    "te_flex = True # True = allow TE in flex; False = prohibit TE in flex\n",
    "\n",
    "# Locked into the lineup\n",
    "locked = ['Blake Bortles']\n",
    "\n",
    "# Banned from the lineup\n",
    "banned = ['Larry Fitzgerald',\n",
    "          'Antonio Gates',\n",
    "          'Brent Celek',\n",
    "          'Brian Hoyer']\n",
    "\n",
    "# Adjustments to player projections\n",
    "adjustments = {'Doug Baldwin': 0.1,\n",
    "               'Demarco Murray': 0.1}"
   ]
  },
  {
   "cell_type": "code",
   "execution_count": 2,
   "metadata": {
    "collapsed": false
   },
   "outputs": [],
   "source": [
    "import json\n",
    "\n",
    "with open('json/nflprojections.json') as f: nfl_dict = json.load(f)\n",
    "\n",
    "debug = False # Set to 'True' if you want to see errors\n",
    "players = {}\n",
    "for i,p in enumerate(nfl_dict):\n",
    "    \n",
    "    # Verify that each player has all the needed data\n",
    "    if 'pos' in nfl_dict[p].keys() and 'team' in nfl_dict[p].keys() and 'dk_price' in nfl_dict[p].keys() and 'avg' in nfl_dict[p]['dk_proj'].keys():\n",
    "        \n",
    "        # Apply adjustments\n",
    "        for name in adjustments: points = nfl_dict[p]['dk_proj']['avg']+adjustments[p] if p == name else nfl_dict[p]['dk_proj']['avg']\n",
    "        \n",
    "        # Add player data\n",
    "        players[i] =  {'name': p,\n",
    "                       'pos': nfl_dict[p]['pos'],\n",
    "                       'price': nfl_dict[p]['dk_price'],\n",
    "                       'team': nfl_dict[p]['team'],\n",
    "                       'pts': points}\n",
    "    \n",
    "    elif debug == True: print \"ERROR: \" + str(p) + \" data incomplete\""
   ]
  },
  {
   "cell_type": "code",
   "execution_count": 3,
   "metadata": {
    "collapsed": false
   },
   "outputs": [],
   "source": [
    "from pulp import *\n",
    "\n",
    "def optimizer(players, picked, max_players, max_sal, te_flex, locked, banned):\n",
    "    \n",
    "    # Model\n",
    "    lineup_model = LpProblem('Lineup Model', LpMaximize)\n",
    "\n",
    "    # Variables: One for each of the eligible players\n",
    "    # Creates a dict of '0':'P0', '1':'P1', etc. for all the player ids.\n",
    "    # It also declares a binary variable for every player that = 0 or 1.\n",
    "    id_var = LpVariable.dicts(\"P%s\", [p for p in players], lowBound=0, upBound=1, cat='Binary')\n",
    "    \n",
    "    # Objective: Maximise points\n",
    "    lineup_model += sum([players[i]['pts']*id_var[i] for i in id_var])\n",
    "    \n",
    "    # Constraints: Lineup requirements\n",
    "    lineup_model += sum(id_var[i] for i in id_var) == 9 # Total players\n",
    "\n",
    "    lineup_model += sum(players[i]['price']*id_var[i] for i in id_var) <= max_sal # Max cost\n",
    "    \n",
    "    lineup_model += sum(id_var[i] for i in id_var if players[i]['pos'] == 'QB') == 1 # Max QBs\n",
    "    \n",
    "    lineup_model += sum(id_var[i] for i in id_var if players[i]['pos'] == 'RB') >= 2 # Min RBs\n",
    "    lineup_model += sum(id_var[i] for i in id_var if players[i]['pos'] == 'RB') <= 3 # Max RBs\n",
    "\n",
    "    lineup_model += sum(id_var[i] for i in id_var if players[i]['pos'] == 'WR') >= 3 # Min WRs\n",
    "    lineup_model += sum(id_var[i] for i in id_var if players[i]['pos'] == 'WR') <= 4 # Max WRs\n",
    "\n",
    "    if te_flex == True:\n",
    "        lineup_model += sum(id_var[i] for i in id_var if players[i]['pos'] == 'TE') >= 1 # Min TEs\n",
    "        lineup_model += sum(id_var[i] for i in id_var if players[i]['pos'] == 'TE') <= 2 # Max TEs\n",
    "    else:\n",
    "        lineup_model += sum(id_var[i] for i in id_var if players[i]['pos'] == 'TE') == 1 # Max TEs\n",
    "\n",
    "    lineup_model += sum(id_var[i] for i in id_var if players[i]['pos'] == 'DEF') == 1 # Min DEFs\n",
    "\n",
    "    lineup_model += sum(id_var[i] for i in id_var if players[i]['name'] in locked) == len(locked)\n",
    "\n",
    "    lineup_model += sum(id_var[i] for i in id_var if players[i]['name'] in banned) == 0\n",
    "\n",
    "    # Max number of players per team\n",
    "    teams = {}\n",
    "    for p in players:\n",
    "        if players[p]['team'] not in teams.keys():\n",
    "            teams[players[p]['team']] = [p]\n",
    "        else:\n",
    "            teams[players[p]['team']].append(p)\n",
    "    for tm in teams: lineup_model += sum(id_var[i] for i in teams[tm]) <= max_players\n",
    "    \n",
    "    # Eliminate previous lineups\n",
    "    for pkd in picked:\n",
    "        lineup_model += sum(id_var[i] for i in id_var if i in pkd) <= 8\n",
    "    \n",
    "    # Solve\n",
    "    lineup_model.solve()\n",
    "    \n",
    "    # Return lineup\n",
    "    return [i for i in id_var if id_var[i].value() == 1]"
   ]
  },
  {
   "cell_type": "code",
   "execution_count": 4,
   "metadata": {
    "collapsed": false
   },
   "outputs": [],
   "source": [
    "# Calling the optimizer\n",
    "picked = []\n",
    "for n in range(0,num_lineups):\n",
    "    picked.append(optimizer(players, picked, max_players, max_sal, te_flex, locked, banned))"
   ]
  },
  {
   "cell_type": "code",
   "execution_count": 5,
   "metadata": {
    "collapsed": false
   },
   "outputs": [
    {
     "name": "stdout",
     "output_type": "stream",
     "text": [
      "               Name  Pos     Pts\n",
      "5   DeAndre Hopkins   WR  23.959\n",
      "4     Antonio Brown   WR  22.258\n",
      "6     Blake Bortles   QB  20.554\n",
      "0   Darren McFadden   RB  18.680\n",
      "8      Thomas Rawls   RB  16.507\n",
      "3       T.J. Yeldon   RB  16.361\n",
      "1    Danny Amendola   WR  13.962\n",
      "2     Gary Barnidge   TE  13.955\n",
      "7  Cleveland Browns  DEF   7.287\n",
      "           Total Points: 153.523 \n",
      "\n",
      "               Name  Pos     Pts\n",
      "5   DeAndre Hopkins   WR  23.959\n",
      "4     Antonio Brown   WR  22.258\n",
      "6     Blake Bortles   QB  20.554\n",
      "1   Darren McFadden   RB  18.680\n",
      "8      Thomas Rawls   RB  16.507\n",
      "3       T.J. Yeldon   RB  16.361\n",
      "2     Gary Barnidge   TE  13.955\n",
      "0       Golden Tate   WR  13.757\n",
      "7  Cleveland Browns  DEF   7.287\n",
      "           Total Points: 153.318 \n",
      "\n",
      "               Name  Pos     Pts\n",
      "5   DeAndre Hopkins   WR  23.959\n",
      "4     Antonio Brown   WR  22.258\n",
      "6     Blake Bortles   QB  20.554\n",
      "0   Darren McFadden   RB  18.680\n",
      "8      Thomas Rawls   RB  16.507\n",
      "3       T.J. Yeldon   RB  16.361\n",
      "2     Gary Barnidge   TE  13.955\n",
      "1     Jeremy Maclin   WR  13.709\n",
      "7  Cleveland Browns  DEF   7.287\n",
      "           Total Points: 153.27 \n",
      "\n",
      "                 Name  Pos     Pts\n",
      "6     DeAndre Hopkins   WR  23.959\n",
      "4       Antonio Brown   WR  22.258\n",
      "7       Blake Bortles   QB  20.554\n",
      "0     Darren McFadden   RB  18.680\n",
      "8        Thomas Rawls   RB  16.507\n",
      "3         T.J. Yeldon   RB  16.361\n",
      "1      Danny Amendola   WR  13.962\n",
      "2       Gary Barnidge   TE  13.955\n",
      "5  Indianapolis Colts  DEF   6.957\n",
      "           Total Points: 153.193 \n",
      "\n",
      "               Name  Pos     Pts\n",
      "5   DeAndre Hopkins   WR  23.959\n",
      "4       Julio Jones   WR  23.351\n",
      "6     Blake Bortles   QB  20.554\n",
      "0   Darren McFadden   RB  18.680\n",
      "8      Thomas Rawls   RB  16.507\n",
      "3       T.J. Yeldon   RB  16.361\n",
      "2     Gary Barnidge   TE  13.955\n",
      "1      Doug Baldwin   WR  12.397\n",
      "7  Cleveland Browns  DEF   7.287\n",
      "           Total Points: 153.051 \n",
      "\n"
     ]
    }
   ],
   "source": [
    "import pandas as pd\n",
    "\n",
    "# Displaying the results\n",
    "results = {}\n",
    "for n,lineup in enumerate(picked):\n",
    "    results[n] = []\n",
    "    for p in players:\n",
    "        if p in lineup:\n",
    "            results[n].append({'Name':players[p]['name'], 'Pts':players[p]['pts'], 'Pos':players[p]['pos']})\n",
    "\n",
    "for r in results:\n",
    "    df = pd.DataFrame(results[r]).sort_values(by='Pts',ascending=False)\n",
    "    print df\n",
    "    print '           Total Points:', df.sum()[2], '\\n'"
   ]
  },
  {
   "cell_type": "code",
   "execution_count": null,
   "metadata": {
    "collapsed": true
   },
   "outputs": [],
   "source": []
  }
 ],
 "metadata": {
  "kernelspec": {
   "display_name": "Python 2",
   "language": "python",
   "name": "python2"
  },
  "language_info": {
   "codemirror_mode": {
    "name": "ipython",
    "version": 2
   },
   "file_extension": ".py",
   "mimetype": "text/x-python",
   "name": "python",
   "nbconvert_exporter": "python",
   "pygments_lexer": "ipython2",
   "version": "2.7.11"
  }
 },
 "nbformat": 4,
 "nbformat_minor": 0
}
